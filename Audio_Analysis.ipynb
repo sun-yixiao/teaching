{
 "cells": [
  {
   "cell_type": "code",
   "execution_count": 2,
   "id": "48159ca3",
   "metadata": {},
   "outputs": [],
   "source": [
    "import librosa\n",
    "import librosa.display\n",
    "import pylab as plt\n",
    "import numpy as np\n",
    "from IPython.display import Audio"
   ]
  },
  {
   "cell_type": "code",
   "execution_count": 3,
   "id": "405397ee",
   "metadata": {},
   "outputs": [],
   "source": [
    "# 获取包含的音频的文件路径，将音频加载为波形“y”并将采样率（单位：Hz）存储为“sr”\n",
    "y, sr = librosa.load('qifengle.wav')"
   ]
  },
  {
   "cell_type": "code",
   "execution_count": 4,
   "id": "a488123c",
   "metadata": {},
   "outputs": [
    {
     "data": {
      "text/plain": [
       "array([73.828125])"
      ]
     },
     "execution_count": 4,
     "metadata": {},
     "output_type": "execute_result"
    }
   ],
   "source": [
    "# 计算音频平均“节奏”\n",
    "tempo, beat_frames = librosa.beat.beat_track(y=y, sr=sr)\n",
    "tempo"
   ]
  },
  {
   "cell_type": "code",
   "execution_count": 5,
   "id": "5ef5cf36",
   "metadata": {},
   "outputs": [
    {
     "data": {
      "text/plain": [
       "0.13588628"
      ]
     },
     "execution_count": 5,
     "metadata": {},
     "output_type": "execute_result"
    }
   ],
   "source": [
    "# 计算整个音频的平均响度\n",
    "rms = librosa.feature.rms(y=y)\n",
    "mean_rms = np.mean(rms)\n",
    "mean_rms"
   ]
  },
  {
   "cell_type": "markdown",
   "id": "ba50b1fa",
   "metadata": {},
   "source": [
    "------------------------"
   ]
  }
 ],
 "metadata": {
  "kernelspec": {
   "display_name": "Python 3 (ipykernel)",
   "language": "python",
   "name": "python3"
  },
  "language_info": {
   "codemirror_mode": {
    "name": "ipython",
    "version": 3
   },
   "file_extension": ".py",
   "mimetype": "text/x-python",
   "name": "python",
   "nbconvert_exporter": "python",
   "pygments_lexer": "ipython3",
   "version": "3.9.12"
  }
 },
 "nbformat": 4,
 "nbformat_minor": 5
}
